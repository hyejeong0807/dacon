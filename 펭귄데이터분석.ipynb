{
  "nbformat": 4,
  "nbformat_minor": 0,
  "metadata": {
    "colab": {
      "name": "펭귄데이터분석.ipynb",
      "provenance": [],
      "collapsed_sections": [],
      "mount_file_id": "1EBaKP1JJSbAnANIGyjhdt1c4moedC5ZX",
      "authorship_tag": "ABX9TyNUixQzh0MhK3VKRFHvB/ca",
      "include_colab_link": true
    },
    "kernelspec": {
      "name": "python3",
      "display_name": "Python 3"
    },
    "language_info": {
      "name": "python"
    }
  },
  "cells": [
    {
      "cell_type": "markdown",
      "metadata": {
        "id": "view-in-github",
        "colab_type": "text"
      },
      "source": [
        "<a href=\"https://colab.research.google.com/github/hyejeong0807/dacon/blob/main/%ED%8E%AD%EA%B7%84%EB%8D%B0%EC%9D%B4%ED%84%B0%EB%B6%84%EC%84%9D.ipynb\" target=\"_parent\"><img src=\"https://colab.research.google.com/assets/colab-badge.svg\" alt=\"Open In Colab\"/></a>"
      ]
    },
    {
      "cell_type": "code",
      "execution_count": null,
      "metadata": {
        "id": "HlPskHMAbMiy"
      },
      "outputs": [],
      "source": [
        "import pandas as pd\n",
        "import numpy as np\n",
        "import matplotlib.pyplot as plt\n",
        "import seaborn as sns\n",
        "from sklearn.preprocessing import LabelEncoder"
      ]
    },
    {
      "cell_type": "code",
      "source": [
        "data = pd.read_csv('/content/drive/MyDrive/Colab Notebooks/dacon/dataset/train.csv')"
      ],
      "metadata": {
        "id": "8tpYVwnncTVw"
      },
      "execution_count": 99,
      "outputs": []
    },
    {
      "cell_type": "code",
      "source": [
        "data = data.drop('id', axis=1)"
      ],
      "metadata": {
        "id": "UXb05RZicZPp"
      },
      "execution_count": 100,
      "outputs": []
    },
    {
      "cell_type": "code",
      "source": [
        "data.info()"
      ],
      "metadata": {
        "colab": {
          "base_uri": "https://localhost:8080/"
        },
        "id": "9x2iUvEpcrUX",
        "outputId": "1a4032d5-fe00-4749-9779-2227e5bb0d67"
      },
      "execution_count": 101,
      "outputs": [
        {
          "output_type": "stream",
          "name": "stdout",
          "text": [
            "<class 'pandas.core.frame.DataFrame'>\n",
            "RangeIndex: 114 entries, 0 to 113\n",
            "Data columns (total 10 columns):\n",
            " #   Column               Non-Null Count  Dtype  \n",
            "---  ------               --------------  -----  \n",
            " 0   Species              114 non-null    object \n",
            " 1   Island               114 non-null    object \n",
            " 2   Clutch Completion    114 non-null    object \n",
            " 3   Culmen Length (mm)   114 non-null    float64\n",
            " 4   Culmen Depth (mm)    114 non-null    float64\n",
            " 5   Flipper Length (mm)  114 non-null    int64  \n",
            " 6   Sex                  111 non-null    object \n",
            " 7   Delta 15 N (o/oo)    111 non-null    float64\n",
            " 8   Delta 13 C (o/oo)    111 non-null    float64\n",
            " 9   Body Mass (g)        114 non-null    int64  \n",
            "dtypes: float64(4), int64(2), object(4)\n",
            "memory usage: 9.0+ KB\n"
          ]
        }
      ]
    },
    {
      "cell_type": "code",
      "source": [
        "# 컬럼 별 결측치 확인\n",
        "def check_missing_col(dataframe):\n",
        "  missing_col = []\n",
        "  counted_missing_col = 0\n",
        "  for i, col in enumerate(dataframe.columns):\n",
        "    missing_values = sum(dataframe[col].isna())\n",
        "    is_missing = True if missing_values >= 1 else False\n",
        "    if is_missing:\n",
        "      counted_missing_col += 1\n",
        "      print(f'결측치가 존재하는 컬럼은: {col}입니다.')\n",
        "      print(f'해당 컬럼에 총 {missing_values}개의 결측치가 존재합니다.')\n",
        "      missing_col.append([col, dataframe[col].dtype])\n",
        "  if counted_missing_col == 0:\n",
        "    print('결측치가 존재하지 않습니다.')\n",
        "  return missing_col"
      ],
      "metadata": {
        "id": "wrAXqqxFcryq"
      },
      "execution_count": 102,
      "outputs": []
    },
    {
      "cell_type": "code",
      "source": [
        "missing_col = check_missing_col(data)"
      ],
      "metadata": {
        "colab": {
          "base_uri": "https://localhost:8080/"
        },
        "id": "Nq2_t01odLiH",
        "outputId": "411f476e-8442-4b16-a0d5-6bd92c6b4826"
      },
      "execution_count": 103,
      "outputs": [
        {
          "output_type": "stream",
          "name": "stdout",
          "text": [
            "결측치가 존재하는 컬럼은: Sex입니다.\n",
            "해당 컬럼에 총 3개의 결측치가 존재합니다.\n",
            "결측치가 존재하는 컬럼은: Delta 15 N (o/oo)입니다.\n",
            "해당 컬럼에 총 3개의 결측치가 존재합니다.\n",
            "결측치가 존재하는 컬럼은: Delta 13 C (o/oo)입니다.\n",
            "해당 컬럼에 총 3개의 결측치가 존재합니다.\n"
          ]
        }
      ]
    },
    {
      "cell_type": "code",
      "source": [
        "data[data.isna().sum(axis=1)>0]"
      ],
      "metadata": {
        "colab": {
          "base_uri": "https://localhost:8080/",
          "height": 354
        },
        "id": "pOhvimaEd57i",
        "outputId": "8ba42b27-2e87-4967-c93c-8be03e954275"
      },
      "execution_count": 104,
      "outputs": [
        {
          "output_type": "execute_result",
          "data": {
            "text/html": [
              "\n",
              "  <div id=\"df-ebaa17b2-9a82-4d1d-ae43-886e2dfeadea\">\n",
              "    <div class=\"colab-df-container\">\n",
              "      <div>\n",
              "<style scoped>\n",
              "    .dataframe tbody tr th:only-of-type {\n",
              "        vertical-align: middle;\n",
              "    }\n",
              "\n",
              "    .dataframe tbody tr th {\n",
              "        vertical-align: top;\n",
              "    }\n",
              "\n",
              "    .dataframe thead th {\n",
              "        text-align: right;\n",
              "    }\n",
              "</style>\n",
              "<table border=\"1\" class=\"dataframe\">\n",
              "  <thead>\n",
              "    <tr style=\"text-align: right;\">\n",
              "      <th></th>\n",
              "      <th>Species</th>\n",
              "      <th>Island</th>\n",
              "      <th>Clutch Completion</th>\n",
              "      <th>Culmen Length (mm)</th>\n",
              "      <th>Culmen Depth (mm)</th>\n",
              "      <th>Flipper Length (mm)</th>\n",
              "      <th>Sex</th>\n",
              "      <th>Delta 15 N (o/oo)</th>\n",
              "      <th>Delta 13 C (o/oo)</th>\n",
              "      <th>Body Mass (g)</th>\n",
              "    </tr>\n",
              "  </thead>\n",
              "  <tbody>\n",
              "    <tr>\n",
              "      <th>6</th>\n",
              "      <td>Adelie Penguin (Pygoscelis adeliae)</td>\n",
              "      <td>Torgersen</td>\n",
              "      <td>Yes</td>\n",
              "      <td>42.0</td>\n",
              "      <td>20.2</td>\n",
              "      <td>190</td>\n",
              "      <td>NaN</td>\n",
              "      <td>9.13362</td>\n",
              "      <td>-25.09368</td>\n",
              "      <td>4250</td>\n",
              "    </tr>\n",
              "    <tr>\n",
              "      <th>8</th>\n",
              "      <td>Adelie Penguin (Pygoscelis adeliae)</td>\n",
              "      <td>Torgersen</td>\n",
              "      <td>Yes</td>\n",
              "      <td>34.1</td>\n",
              "      <td>18.1</td>\n",
              "      <td>193</td>\n",
              "      <td>NaN</td>\n",
              "      <td>NaN</td>\n",
              "      <td>NaN</td>\n",
              "      <td>3475</td>\n",
              "    </tr>\n",
              "    <tr>\n",
              "      <th>18</th>\n",
              "      <td>Adelie Penguin (Pygoscelis adeliae)</td>\n",
              "      <td>Dream</td>\n",
              "      <td>No</td>\n",
              "      <td>39.8</td>\n",
              "      <td>19.1</td>\n",
              "      <td>184</td>\n",
              "      <td>MALE</td>\n",
              "      <td>NaN</td>\n",
              "      <td>NaN</td>\n",
              "      <td>4650</td>\n",
              "    </tr>\n",
              "    <tr>\n",
              "      <th>70</th>\n",
              "      <td>Gentoo penguin (Pygoscelis papua)</td>\n",
              "      <td>Biscoe</td>\n",
              "      <td>Yes</td>\n",
              "      <td>46.2</td>\n",
              "      <td>14.4</td>\n",
              "      <td>214</td>\n",
              "      <td>NaN</td>\n",
              "      <td>8.24253</td>\n",
              "      <td>-26.81540</td>\n",
              "      <td>4650</td>\n",
              "    </tr>\n",
              "    <tr>\n",
              "      <th>109</th>\n",
              "      <td>Adelie Penguin (Pygoscelis adeliae)</td>\n",
              "      <td>Torgersen</td>\n",
              "      <td>Yes</td>\n",
              "      <td>36.6</td>\n",
              "      <td>17.8</td>\n",
              "      <td>185</td>\n",
              "      <td>FEMALE</td>\n",
              "      <td>NaN</td>\n",
              "      <td>NaN</td>\n",
              "      <td>3700</td>\n",
              "    </tr>\n",
              "  </tbody>\n",
              "</table>\n",
              "</div>\n",
              "      <button class=\"colab-df-convert\" onclick=\"convertToInteractive('df-ebaa17b2-9a82-4d1d-ae43-886e2dfeadea')\"\n",
              "              title=\"Convert this dataframe to an interactive table.\"\n",
              "              style=\"display:none;\">\n",
              "        \n",
              "  <svg xmlns=\"http://www.w3.org/2000/svg\" height=\"24px\"viewBox=\"0 0 24 24\"\n",
              "       width=\"24px\">\n",
              "    <path d=\"M0 0h24v24H0V0z\" fill=\"none\"/>\n",
              "    <path d=\"M18.56 5.44l.94 2.06.94-2.06 2.06-.94-2.06-.94-.94-2.06-.94 2.06-2.06.94zm-11 1L8.5 8.5l.94-2.06 2.06-.94-2.06-.94L8.5 2.5l-.94 2.06-2.06.94zm10 10l.94 2.06.94-2.06 2.06-.94-2.06-.94-.94-2.06-.94 2.06-2.06.94z\"/><path d=\"M17.41 7.96l-1.37-1.37c-.4-.4-.92-.59-1.43-.59-.52 0-1.04.2-1.43.59L10.3 9.45l-7.72 7.72c-.78.78-.78 2.05 0 2.83L4 21.41c.39.39.9.59 1.41.59.51 0 1.02-.2 1.41-.59l7.78-7.78 2.81-2.81c.8-.78.8-2.07 0-2.86zM5.41 20L4 18.59l7.72-7.72 1.47 1.35L5.41 20z\"/>\n",
              "  </svg>\n",
              "      </button>\n",
              "      \n",
              "  <style>\n",
              "    .colab-df-container {\n",
              "      display:flex;\n",
              "      flex-wrap:wrap;\n",
              "      gap: 12px;\n",
              "    }\n",
              "\n",
              "    .colab-df-convert {\n",
              "      background-color: #E8F0FE;\n",
              "      border: none;\n",
              "      border-radius: 50%;\n",
              "      cursor: pointer;\n",
              "      display: none;\n",
              "      fill: #1967D2;\n",
              "      height: 32px;\n",
              "      padding: 0 0 0 0;\n",
              "      width: 32px;\n",
              "    }\n",
              "\n",
              "    .colab-df-convert:hover {\n",
              "      background-color: #E2EBFA;\n",
              "      box-shadow: 0px 1px 2px rgba(60, 64, 67, 0.3), 0px 1px 3px 1px rgba(60, 64, 67, 0.15);\n",
              "      fill: #174EA6;\n",
              "    }\n",
              "\n",
              "    [theme=dark] .colab-df-convert {\n",
              "      background-color: #3B4455;\n",
              "      fill: #D2E3FC;\n",
              "    }\n",
              "\n",
              "    [theme=dark] .colab-df-convert:hover {\n",
              "      background-color: #434B5C;\n",
              "      box-shadow: 0px 1px 3px 1px rgba(0, 0, 0, 0.15);\n",
              "      filter: drop-shadow(0px 1px 2px rgba(0, 0, 0, 0.3));\n",
              "      fill: #FFFFFF;\n",
              "    }\n",
              "  </style>\n",
              "\n",
              "      <script>\n",
              "        const buttonEl =\n",
              "          document.querySelector('#df-ebaa17b2-9a82-4d1d-ae43-886e2dfeadea button.colab-df-convert');\n",
              "        buttonEl.style.display =\n",
              "          google.colab.kernel.accessAllowed ? 'block' : 'none';\n",
              "\n",
              "        async function convertToInteractive(key) {\n",
              "          const element = document.querySelector('#df-ebaa17b2-9a82-4d1d-ae43-886e2dfeadea');\n",
              "          const dataTable =\n",
              "            await google.colab.kernel.invokeFunction('convertToInteractive',\n",
              "                                                     [key], {});\n",
              "          if (!dataTable) return;\n",
              "\n",
              "          const docLinkHtml = 'Like what you see? Visit the ' +\n",
              "            '<a target=\"_blank\" href=https://colab.research.google.com/notebooks/data_table.ipynb>data table notebook</a>'\n",
              "            + ' to learn more about interactive tables.';\n",
              "          element.innerHTML = '';\n",
              "          dataTable['output_type'] = 'display_data';\n",
              "          await google.colab.output.renderOutput(dataTable, element);\n",
              "          const docLink = document.createElement('div');\n",
              "          docLink.innerHTML = docLinkHtml;\n",
              "          element.appendChild(docLink);\n",
              "        }\n",
              "      </script>\n",
              "    </div>\n",
              "  </div>\n",
              "  "
            ],
            "text/plain": [
              "                                 Species  ... Body Mass (g)\n",
              "6    Adelie Penguin (Pygoscelis adeliae)  ...          4250\n",
              "8    Adelie Penguin (Pygoscelis adeliae)  ...          3475\n",
              "18   Adelie Penguin (Pygoscelis adeliae)  ...          4650\n",
              "70     Gentoo penguin (Pygoscelis papua)  ...          4650\n",
              "109  Adelie Penguin (Pygoscelis adeliae)  ...          3700\n",
              "\n",
              "[5 rows x 10 columns]"
            ]
          },
          "metadata": {},
          "execution_count": 104
        }
      ]
    },
    {
      "cell_type": "code",
      "source": [
        "def handle_na(data, missing_col):\n",
        "  temp = data.copy()\n",
        "  for col, dtype in missing_col:\n",
        "    if dtype == 'O':\n",
        "      temp = temp.dropna(subset=[col], axis=0)\n",
        "    elif dtype == int or dtype == float:\n",
        "      temp.loc[:, col] = temp[col].fillna(temp[col].mean())\n",
        "  temp = temp.reset_index(drop=True)\n",
        "  return temp"
      ],
      "metadata": {
        "id": "Uo10I3_PeBVK"
      },
      "execution_count": 105,
      "outputs": []
    },
    {
      "cell_type": "code",
      "source": [
        "data = handle_na(data, missing_col)"
      ],
      "metadata": {
        "id": "hnkI1Ml6iGQu"
      },
      "execution_count": 106,
      "outputs": []
    },
    {
      "cell_type": "code",
      "source": [
        "missing_col = check_missing_col(data)"
      ],
      "metadata": {
        "colab": {
          "base_uri": "https://localhost:8080/"
        },
        "id": "UauFgZ9iiJ26",
        "outputId": "c9887472-a724-4482-d47f-ab24b2f7f9e2"
      },
      "execution_count": 107,
      "outputs": [
        {
          "output_type": "stream",
          "name": "stdout",
          "text": [
            "결측치가 존재하지 않습니다.\n"
          ]
        }
      ]
    },
    {
      "cell_type": "code",
      "source": [
        "data"
      ],
      "metadata": {
        "colab": {
          "base_uri": "https://localhost:8080/",
          "height": 659
        },
        "id": "V-wu8bFzE9zB",
        "outputId": "ab46c5f1-f4cf-4629-d6e8-c45efe798130"
      },
      "execution_count": 108,
      "outputs": [
        {
          "output_type": "execute_result",
          "data": {
            "text/html": [
              "\n",
              "  <div id=\"df-de9018e5-5e4f-44ef-834d-708e1b4f1e33\">\n",
              "    <div class=\"colab-df-container\">\n",
              "      <div>\n",
              "<style scoped>\n",
              "    .dataframe tbody tr th:only-of-type {\n",
              "        vertical-align: middle;\n",
              "    }\n",
              "\n",
              "    .dataframe tbody tr th {\n",
              "        vertical-align: top;\n",
              "    }\n",
              "\n",
              "    .dataframe thead th {\n",
              "        text-align: right;\n",
              "    }\n",
              "</style>\n",
              "<table border=\"1\" class=\"dataframe\">\n",
              "  <thead>\n",
              "    <tr style=\"text-align: right;\">\n",
              "      <th></th>\n",
              "      <th>Species</th>\n",
              "      <th>Island</th>\n",
              "      <th>Clutch Completion</th>\n",
              "      <th>Culmen Length (mm)</th>\n",
              "      <th>Culmen Depth (mm)</th>\n",
              "      <th>Flipper Length (mm)</th>\n",
              "      <th>Sex</th>\n",
              "      <th>Delta 15 N (o/oo)</th>\n",
              "      <th>Delta 13 C (o/oo)</th>\n",
              "      <th>Body Mass (g)</th>\n",
              "    </tr>\n",
              "  </thead>\n",
              "  <tbody>\n",
              "    <tr>\n",
              "      <th>0</th>\n",
              "      <td>Gentoo penguin (Pygoscelis papua)</td>\n",
              "      <td>Biscoe</td>\n",
              "      <td>Yes</td>\n",
              "      <td>50.0</td>\n",
              "      <td>15.3</td>\n",
              "      <td>220</td>\n",
              "      <td>MALE</td>\n",
              "      <td>8.305150</td>\n",
              "      <td>-25.190170</td>\n",
              "      <td>5550</td>\n",
              "    </tr>\n",
              "    <tr>\n",
              "      <th>1</th>\n",
              "      <td>Chinstrap penguin (Pygoscelis antarctica)</td>\n",
              "      <td>Dream</td>\n",
              "      <td>No</td>\n",
              "      <td>49.5</td>\n",
              "      <td>19.0</td>\n",
              "      <td>200</td>\n",
              "      <td>MALE</td>\n",
              "      <td>9.630740</td>\n",
              "      <td>-24.346840</td>\n",
              "      <td>3800</td>\n",
              "    </tr>\n",
              "    <tr>\n",
              "      <th>2</th>\n",
              "      <td>Gentoo penguin (Pygoscelis papua)</td>\n",
              "      <td>Biscoe</td>\n",
              "      <td>Yes</td>\n",
              "      <td>45.1</td>\n",
              "      <td>14.4</td>\n",
              "      <td>210</td>\n",
              "      <td>FEMALE</td>\n",
              "      <td>8.519510</td>\n",
              "      <td>-27.018540</td>\n",
              "      <td>4400</td>\n",
              "    </tr>\n",
              "    <tr>\n",
              "      <th>3</th>\n",
              "      <td>Gentoo penguin (Pygoscelis papua)</td>\n",
              "      <td>Biscoe</td>\n",
              "      <td>Yes</td>\n",
              "      <td>44.5</td>\n",
              "      <td>14.7</td>\n",
              "      <td>214</td>\n",
              "      <td>FEMALE</td>\n",
              "      <td>8.201060</td>\n",
              "      <td>-26.165240</td>\n",
              "      <td>4850</td>\n",
              "    </tr>\n",
              "    <tr>\n",
              "      <th>4</th>\n",
              "      <td>Gentoo penguin (Pygoscelis papua)</td>\n",
              "      <td>Biscoe</td>\n",
              "      <td>No</td>\n",
              "      <td>49.6</td>\n",
              "      <td>16.0</td>\n",
              "      <td>225</td>\n",
              "      <td>MALE</td>\n",
              "      <td>8.383240</td>\n",
              "      <td>-26.842720</td>\n",
              "      <td>5700</td>\n",
              "    </tr>\n",
              "    <tr>\n",
              "      <th>...</th>\n",
              "      <td>...</td>\n",
              "      <td>...</td>\n",
              "      <td>...</td>\n",
              "      <td>...</td>\n",
              "      <td>...</td>\n",
              "      <td>...</td>\n",
              "      <td>...</td>\n",
              "      <td>...</td>\n",
              "      <td>...</td>\n",
              "      <td>...</td>\n",
              "    </tr>\n",
              "    <tr>\n",
              "      <th>106</th>\n",
              "      <td>Adelie Penguin (Pygoscelis adeliae)</td>\n",
              "      <td>Torgersen</td>\n",
              "      <td>Yes</td>\n",
              "      <td>36.6</td>\n",
              "      <td>17.8</td>\n",
              "      <td>185</td>\n",
              "      <td>FEMALE</td>\n",
              "      <td>8.738543</td>\n",
              "      <td>-25.718804</td>\n",
              "      <td>3700</td>\n",
              "    </tr>\n",
              "    <tr>\n",
              "      <th>107</th>\n",
              "      <td>Adelie Penguin (Pygoscelis adeliae)</td>\n",
              "      <td>Dream</td>\n",
              "      <td>Yes</td>\n",
              "      <td>39.2</td>\n",
              "      <td>18.6</td>\n",
              "      <td>190</td>\n",
              "      <td>MALE</td>\n",
              "      <td>9.110060</td>\n",
              "      <td>-25.795490</td>\n",
              "      <td>4250</td>\n",
              "    </tr>\n",
              "    <tr>\n",
              "      <th>108</th>\n",
              "      <td>Adelie Penguin (Pygoscelis adeliae)</td>\n",
              "      <td>Dream</td>\n",
              "      <td>Yes</td>\n",
              "      <td>43.2</td>\n",
              "      <td>18.5</td>\n",
              "      <td>192</td>\n",
              "      <td>MALE</td>\n",
              "      <td>8.970250</td>\n",
              "      <td>-26.036790</td>\n",
              "      <td>4100</td>\n",
              "    </tr>\n",
              "    <tr>\n",
              "      <th>109</th>\n",
              "      <td>Chinstrap penguin (Pygoscelis antarctica)</td>\n",
              "      <td>Dream</td>\n",
              "      <td>No</td>\n",
              "      <td>46.9</td>\n",
              "      <td>16.6</td>\n",
              "      <td>192</td>\n",
              "      <td>FEMALE</td>\n",
              "      <td>9.805890</td>\n",
              "      <td>-24.737350</td>\n",
              "      <td>2700</td>\n",
              "    </tr>\n",
              "    <tr>\n",
              "      <th>110</th>\n",
              "      <td>Gentoo penguin (Pygoscelis papua)</td>\n",
              "      <td>Biscoe</td>\n",
              "      <td>Yes</td>\n",
              "      <td>50.8</td>\n",
              "      <td>17.3</td>\n",
              "      <td>228</td>\n",
              "      <td>MALE</td>\n",
              "      <td>8.274280</td>\n",
              "      <td>-26.300190</td>\n",
              "      <td>5600</td>\n",
              "    </tr>\n",
              "  </tbody>\n",
              "</table>\n",
              "<p>111 rows × 10 columns</p>\n",
              "</div>\n",
              "      <button class=\"colab-df-convert\" onclick=\"convertToInteractive('df-de9018e5-5e4f-44ef-834d-708e1b4f1e33')\"\n",
              "              title=\"Convert this dataframe to an interactive table.\"\n",
              "              style=\"display:none;\">\n",
              "        \n",
              "  <svg xmlns=\"http://www.w3.org/2000/svg\" height=\"24px\"viewBox=\"0 0 24 24\"\n",
              "       width=\"24px\">\n",
              "    <path d=\"M0 0h24v24H0V0z\" fill=\"none\"/>\n",
              "    <path d=\"M18.56 5.44l.94 2.06.94-2.06 2.06-.94-2.06-.94-.94-2.06-.94 2.06-2.06.94zm-11 1L8.5 8.5l.94-2.06 2.06-.94-2.06-.94L8.5 2.5l-.94 2.06-2.06.94zm10 10l.94 2.06.94-2.06 2.06-.94-2.06-.94-.94-2.06-.94 2.06-2.06.94z\"/><path d=\"M17.41 7.96l-1.37-1.37c-.4-.4-.92-.59-1.43-.59-.52 0-1.04.2-1.43.59L10.3 9.45l-7.72 7.72c-.78.78-.78 2.05 0 2.83L4 21.41c.39.39.9.59 1.41.59.51 0 1.02-.2 1.41-.59l7.78-7.78 2.81-2.81c.8-.78.8-2.07 0-2.86zM5.41 20L4 18.59l7.72-7.72 1.47 1.35L5.41 20z\"/>\n",
              "  </svg>\n",
              "      </button>\n",
              "      \n",
              "  <style>\n",
              "    .colab-df-container {\n",
              "      display:flex;\n",
              "      flex-wrap:wrap;\n",
              "      gap: 12px;\n",
              "    }\n",
              "\n",
              "    .colab-df-convert {\n",
              "      background-color: #E8F0FE;\n",
              "      border: none;\n",
              "      border-radius: 50%;\n",
              "      cursor: pointer;\n",
              "      display: none;\n",
              "      fill: #1967D2;\n",
              "      height: 32px;\n",
              "      padding: 0 0 0 0;\n",
              "      width: 32px;\n",
              "    }\n",
              "\n",
              "    .colab-df-convert:hover {\n",
              "      background-color: #E2EBFA;\n",
              "      box-shadow: 0px 1px 2px rgba(60, 64, 67, 0.3), 0px 1px 3px 1px rgba(60, 64, 67, 0.15);\n",
              "      fill: #174EA6;\n",
              "    }\n",
              "\n",
              "    [theme=dark] .colab-df-convert {\n",
              "      background-color: #3B4455;\n",
              "      fill: #D2E3FC;\n",
              "    }\n",
              "\n",
              "    [theme=dark] .colab-df-convert:hover {\n",
              "      background-color: #434B5C;\n",
              "      box-shadow: 0px 1px 3px 1px rgba(0, 0, 0, 0.15);\n",
              "      filter: drop-shadow(0px 1px 2px rgba(0, 0, 0, 0.3));\n",
              "      fill: #FFFFFF;\n",
              "    }\n",
              "  </style>\n",
              "\n",
              "      <script>\n",
              "        const buttonEl =\n",
              "          document.querySelector('#df-de9018e5-5e4f-44ef-834d-708e1b4f1e33 button.colab-df-convert');\n",
              "        buttonEl.style.display =\n",
              "          google.colab.kernel.accessAllowed ? 'block' : 'none';\n",
              "\n",
              "        async function convertToInteractive(key) {\n",
              "          const element = document.querySelector('#df-de9018e5-5e4f-44ef-834d-708e1b4f1e33');\n",
              "          const dataTable =\n",
              "            await google.colab.kernel.invokeFunction('convertToInteractive',\n",
              "                                                     [key], {});\n",
              "          if (!dataTable) return;\n",
              "\n",
              "          const docLinkHtml = 'Like what you see? Visit the ' +\n",
              "            '<a target=\"_blank\" href=https://colab.research.google.com/notebooks/data_table.ipynb>data table notebook</a>'\n",
              "            + ' to learn more about interactive tables.';\n",
              "          element.innerHTML = '';\n",
              "          dataTable['output_type'] = 'display_data';\n",
              "          await google.colab.output.renderOutput(dataTable, element);\n",
              "          const docLink = document.createElement('div');\n",
              "          docLink.innerHTML = docLinkHtml;\n",
              "          element.appendChild(docLink);\n",
              "        }\n",
              "      </script>\n",
              "    </div>\n",
              "  </div>\n",
              "  "
            ],
            "text/plain": [
              "                                       Species  ... Body Mass (g)\n",
              "0            Gentoo penguin (Pygoscelis papua)  ...          5550\n",
              "1    Chinstrap penguin (Pygoscelis antarctica)  ...          3800\n",
              "2            Gentoo penguin (Pygoscelis papua)  ...          4400\n",
              "3            Gentoo penguin (Pygoscelis papua)  ...          4850\n",
              "4            Gentoo penguin (Pygoscelis papua)  ...          5700\n",
              "..                                         ...  ...           ...\n",
              "106        Adelie Penguin (Pygoscelis adeliae)  ...          3700\n",
              "107        Adelie Penguin (Pygoscelis adeliae)  ...          4250\n",
              "108        Adelie Penguin (Pygoscelis adeliae)  ...          4100\n",
              "109  Chinstrap penguin (Pygoscelis antarctica)  ...          2700\n",
              "110          Gentoo penguin (Pygoscelis papua)  ...          5600\n",
              "\n",
              "[111 rows x 10 columns]"
            ]
          },
          "metadata": {},
          "execution_count": 108
        }
      ]
    },
    {
      "cell_type": "markdown",
      "source": [
        "**기초 통계 분석**"
      ],
      "metadata": {
        "id": "avOHMaMCiQb2"
      }
    },
    {
      "cell_type": "code",
      "source": [
        "data.describe()"
      ],
      "metadata": {
        "colab": {
          "base_uri": "https://localhost:8080/",
          "height": 278
        },
        "id": "nW1mX5WiiTOq",
        "outputId": "8c4c11bb-f314-4a64-f3ff-4785b719063c"
      },
      "execution_count": 13,
      "outputs": [
        {
          "output_type": "execute_result",
          "data": {
            "text/html": [
              "\n",
              "  <div id=\"df-986afaed-fc4b-446f-acf9-c8c45bd01df8\">\n",
              "    <div class=\"colab-df-container\">\n",
              "      <div>\n",
              "<style scoped>\n",
              "    .dataframe tbody tr th:only-of-type {\n",
              "        vertical-align: middle;\n",
              "    }\n",
              "\n",
              "    .dataframe tbody tr th {\n",
              "        vertical-align: top;\n",
              "    }\n",
              "\n",
              "    .dataframe thead th {\n",
              "        text-align: right;\n",
              "    }\n",
              "</style>\n",
              "<table border=\"1\" class=\"dataframe\">\n",
              "  <thead>\n",
              "    <tr style=\"text-align: right;\">\n",
              "      <th></th>\n",
              "      <th>Culmen Length (mm)</th>\n",
              "      <th>Culmen Depth (mm)</th>\n",
              "      <th>Flipper Length (mm)</th>\n",
              "      <th>Delta 15 N (o/oo)</th>\n",
              "      <th>Delta 13 C (o/oo)</th>\n",
              "      <th>Body Mass (g)</th>\n",
              "    </tr>\n",
              "  </thead>\n",
              "  <tbody>\n",
              "    <tr>\n",
              "      <th>count</th>\n",
              "      <td>111.000000</td>\n",
              "      <td>111.000000</td>\n",
              "      <td>111.000000</td>\n",
              "      <td>111.000000</td>\n",
              "      <td>111.000000</td>\n",
              "      <td>111.000000</td>\n",
              "    </tr>\n",
              "    <tr>\n",
              "      <th>mean</th>\n",
              "      <td>44.717117</td>\n",
              "      <td>17.000000</td>\n",
              "      <td>203.162162</td>\n",
              "      <td>8.738543</td>\n",
              "      <td>-25.718804</td>\n",
              "      <td>4333.333333</td>\n",
              "    </tr>\n",
              "    <tr>\n",
              "      <th>std</th>\n",
              "      <td>5.290899</td>\n",
              "      <td>1.925192</td>\n",
              "      <td>14.731253</td>\n",
              "      <td>0.564470</td>\n",
              "      <td>0.851332</td>\n",
              "      <td>787.518639</td>\n",
              "    </tr>\n",
              "    <tr>\n",
              "      <th>min</th>\n",
              "      <td>33.500000</td>\n",
              "      <td>13.200000</td>\n",
              "      <td>174.000000</td>\n",
              "      <td>7.632200</td>\n",
              "      <td>-27.018540</td>\n",
              "      <td>2700.000000</td>\n",
              "    </tr>\n",
              "    <tr>\n",
              "      <th>25%</th>\n",
              "      <td>40.450000</td>\n",
              "      <td>15.250000</td>\n",
              "      <td>190.000000</td>\n",
              "      <td>8.274020</td>\n",
              "      <td>-26.408475</td>\n",
              "      <td>3675.000000</td>\n",
              "    </tr>\n",
              "    <tr>\n",
              "      <th>50%</th>\n",
              "      <td>45.200000</td>\n",
              "      <td>17.200000</td>\n",
              "      <td>199.000000</td>\n",
              "      <td>8.634880</td>\n",
              "      <td>-25.898340</td>\n",
              "      <td>4250.000000</td>\n",
              "    </tr>\n",
              "    <tr>\n",
              "      <th>75%</th>\n",
              "      <td>49.150000</td>\n",
              "      <td>18.600000</td>\n",
              "      <td>216.000000</td>\n",
              "      <td>9.264635</td>\n",
              "      <td>-25.005945</td>\n",
              "      <td>4875.000000</td>\n",
              "    </tr>\n",
              "    <tr>\n",
              "      <th>max</th>\n",
              "      <td>55.100000</td>\n",
              "      <td>21.100000</td>\n",
              "      <td>231.000000</td>\n",
              "      <td>10.025440</td>\n",
              "      <td>-24.102550</td>\n",
              "      <td>6300.000000</td>\n",
              "    </tr>\n",
              "  </tbody>\n",
              "</table>\n",
              "</div>\n",
              "      <button class=\"colab-df-convert\" onclick=\"convertToInteractive('df-986afaed-fc4b-446f-acf9-c8c45bd01df8')\"\n",
              "              title=\"Convert this dataframe to an interactive table.\"\n",
              "              style=\"display:none;\">\n",
              "        \n",
              "  <svg xmlns=\"http://www.w3.org/2000/svg\" height=\"24px\"viewBox=\"0 0 24 24\"\n",
              "       width=\"24px\">\n",
              "    <path d=\"M0 0h24v24H0V0z\" fill=\"none\"/>\n",
              "    <path d=\"M18.56 5.44l.94 2.06.94-2.06 2.06-.94-2.06-.94-.94-2.06-.94 2.06-2.06.94zm-11 1L8.5 8.5l.94-2.06 2.06-.94-2.06-.94L8.5 2.5l-.94 2.06-2.06.94zm10 10l.94 2.06.94-2.06 2.06-.94-2.06-.94-.94-2.06-.94 2.06-2.06.94z\"/><path d=\"M17.41 7.96l-1.37-1.37c-.4-.4-.92-.59-1.43-.59-.52 0-1.04.2-1.43.59L10.3 9.45l-7.72 7.72c-.78.78-.78 2.05 0 2.83L4 21.41c.39.39.9.59 1.41.59.51 0 1.02-.2 1.41-.59l7.78-7.78 2.81-2.81c.8-.78.8-2.07 0-2.86zM5.41 20L4 18.59l7.72-7.72 1.47 1.35L5.41 20z\"/>\n",
              "  </svg>\n",
              "      </button>\n",
              "      \n",
              "  <style>\n",
              "    .colab-df-container {\n",
              "      display:flex;\n",
              "      flex-wrap:wrap;\n",
              "      gap: 12px;\n",
              "    }\n",
              "\n",
              "    .colab-df-convert {\n",
              "      background-color: #E8F0FE;\n",
              "      border: none;\n",
              "      border-radius: 50%;\n",
              "      cursor: pointer;\n",
              "      display: none;\n",
              "      fill: #1967D2;\n",
              "      height: 32px;\n",
              "      padding: 0 0 0 0;\n",
              "      width: 32px;\n",
              "    }\n",
              "\n",
              "    .colab-df-convert:hover {\n",
              "      background-color: #E2EBFA;\n",
              "      box-shadow: 0px 1px 2px rgba(60, 64, 67, 0.3), 0px 1px 3px 1px rgba(60, 64, 67, 0.15);\n",
              "      fill: #174EA6;\n",
              "    }\n",
              "\n",
              "    [theme=dark] .colab-df-convert {\n",
              "      background-color: #3B4455;\n",
              "      fill: #D2E3FC;\n",
              "    }\n",
              "\n",
              "    [theme=dark] .colab-df-convert:hover {\n",
              "      background-color: #434B5C;\n",
              "      box-shadow: 0px 1px 3px 1px rgba(0, 0, 0, 0.15);\n",
              "      filter: drop-shadow(0px 1px 2px rgba(0, 0, 0, 0.3));\n",
              "      fill: #FFFFFF;\n",
              "    }\n",
              "  </style>\n",
              "\n",
              "      <script>\n",
              "        const buttonEl =\n",
              "          document.querySelector('#df-986afaed-fc4b-446f-acf9-c8c45bd01df8 button.colab-df-convert');\n",
              "        buttonEl.style.display =\n",
              "          google.colab.kernel.accessAllowed ? 'block' : 'none';\n",
              "\n",
              "        async function convertToInteractive(key) {\n",
              "          const element = document.querySelector('#df-986afaed-fc4b-446f-acf9-c8c45bd01df8');\n",
              "          const dataTable =\n",
              "            await google.colab.kernel.invokeFunction('convertToInteractive',\n",
              "                                                     [key], {});\n",
              "          if (!dataTable) return;\n",
              "\n",
              "          const docLinkHtml = 'Like what you see? Visit the ' +\n",
              "            '<a target=\"_blank\" href=https://colab.research.google.com/notebooks/data_table.ipynb>data table notebook</a>'\n",
              "            + ' to learn more about interactive tables.';\n",
              "          element.innerHTML = '';\n",
              "          dataTable['output_type'] = 'display_data';\n",
              "          await google.colab.output.renderOutput(dataTable, element);\n",
              "          const docLink = document.createElement('div');\n",
              "          docLink.innerHTML = docLinkHtml;\n",
              "          element.appendChild(docLink);\n",
              "        }\n",
              "      </script>\n",
              "    </div>\n",
              "  </div>\n",
              "  "
            ],
            "text/plain": [
              "       Culmen Length (mm)  Culmen Depth (mm)  ...  Delta 13 C (o/oo)  Body Mass (g)\n",
              "count          111.000000         111.000000  ...         111.000000     111.000000\n",
              "mean            44.717117          17.000000  ...         -25.718804    4333.333333\n",
              "std              5.290899           1.925192  ...           0.851332     787.518639\n",
              "min             33.500000          13.200000  ...         -27.018540    2700.000000\n",
              "25%             40.450000          15.250000  ...         -26.408475    3675.000000\n",
              "50%             45.200000          17.200000  ...         -25.898340    4250.000000\n",
              "75%             49.150000          18.600000  ...         -25.005945    4875.000000\n",
              "max             55.100000          21.100000  ...         -24.102550    6300.000000\n",
              "\n",
              "[8 rows x 6 columns]"
            ]
          },
          "metadata": {},
          "execution_count": 13
        }
      ]
    },
    {
      "cell_type": "code",
      "source": [
        "data.dtypes"
      ],
      "metadata": {
        "colab": {
          "base_uri": "https://localhost:8080/"
        },
        "id": "3sNYb0RmiaBj",
        "outputId": "cf8272dc-6fff-4ba1-b9b1-cd21e90b95b7"
      },
      "execution_count": 14,
      "outputs": [
        {
          "output_type": "execute_result",
          "data": {
            "text/plain": [
              "Species                 object\n",
              "Island                  object\n",
              "Clutch Completion       object\n",
              "Culmen Length (mm)     float64\n",
              "Culmen Depth (mm)      float64\n",
              "Flipper Length (mm)      int64\n",
              "Sex                     object\n",
              "Delta 15 N (o/oo)      float64\n",
              "Delta 13 C (o/oo)      float64\n",
              "Body Mass (g)            int64\n",
              "dtype: object"
            ]
          },
          "metadata": {},
          "execution_count": 14
        }
      ]
    },
    {
      "cell_type": "code",
      "source": [
        "numeric_feature = data.columns[(data.dtypes == int) | (data.dtypes == float)]\n",
        "categorical_feature = data.columns[data.dtypes == 'O']"
      ],
      "metadata": {
        "id": "EsZCN0E6ilpO"
      },
      "execution_count": 16,
      "outputs": []
    },
    {
      "cell_type": "code",
      "source": [
        "print('수치형 데이터는 다음과 같습니다.\\n', list(numeric_feature))\n",
        "print('카테고리형 데이터는 다음과 같습니다.\\n', list(categorical_feature))"
      ],
      "metadata": {
        "colab": {
          "base_uri": "https://localhost:8080/"
        },
        "id": "NRewCGKYi3Qt",
        "outputId": "8ecbe6f7-fff2-438d-ac0a-7146b6220b8a"
      },
      "execution_count": 17,
      "outputs": [
        {
          "output_type": "stream",
          "name": "stdout",
          "text": [
            "수치형 데이터는 다음과 같습니다.\n",
            " ['Culmen Length (mm)', 'Culmen Depth (mm)', 'Flipper Length (mm)', 'Delta 15 N (o/oo)', 'Delta 13 C (o/oo)', 'Body Mass (g)']\n",
            "카테고리형 데이터는 다음과 같습니다.\n",
            " ['Species', 'Island', 'Clutch Completion', 'Sex']\n"
          ]
        }
      ]
    },
    {
      "cell_type": "markdown",
      "source": [
        "**수치형 데이터 시각화**"
      ],
      "metadata": {
        "id": "NIP_bOgJjHaH"
      }
    },
    {
      "cell_type": "code",
      "source": [
        "import matplotlib.pyplot as plt\n",
        "%matplotlib inline\n",
        "plt.style.use(\"ggplot\")\n",
        "\n",
        "feature = numeric_feature\n",
        "\n",
        "plt.figure(figsize=(20, 15))\n",
        "plt.suptitle(\"Boxplots\", fontsize=40)\n",
        "\n",
        "for i in range(len(feature)):\n",
        "  plt.subplot(2, 3, i+1)\n",
        "  plt.title(feature[i])\n",
        "  plt.boxplot(data[feature[i]])\n",
        "\n",
        "plt.show()"
      ],
      "metadata": {
        "colab": {
          "base_uri": "https://localhost:8080/",
          "height": 971
        },
        "id": "rutmEQPTjElb",
        "outputId": "1a0f4c29-2491-4eaa-ad1d-708c080cc364"
      },
      "execution_count": 19,
      "outputs": [
        {
          "output_type": "display_data",
          "data": {
            "image/png": "[encoded data removed]",
            "text/plain": [
              "<Figure size 1440x1080 with 6 Axes>"
            ]
          },
          "metadata": {}
        }
      ]
    },
    {
      "cell_type": "markdown",
      "source": [
        "**카테고리형 데이터 시각화**"
      ],
      "metadata": {
        "id": "Q6R7yfQHmyNt"
      }
    },
    {
      "cell_type": "code",
      "source": [
        "feature = categorical_feature\n",
        "\n",
        "plt.figure(figsize=(20, 15))\n",
        "plt.suptitle(\"Bar plot\", fontsize=40)\n",
        "\n",
        "for i in range(len(feature)):\n",
        "  plt.subplot(2, 2, i+1)\n",
        "  plt.title(feature[i], fontsize=20)\n",
        "  temp = data[feature[i]].value_counts()\n",
        "  plt.bar(temp.keys(), temp.values, width=0.5, color='b', alpha=0.5)\n",
        "  plt.xticks(temp.keys(), fontsize=12)\n",
        "\n",
        "plt.tight_layout(rect=[0, 0.03, 1, 0.95])\n",
        "plt.show()"
      ],
      "metadata": {
        "colab": {
          "base_uri": "https://localhost:8080/",
          "height": 957
        },
        "id": "uHbL2zhpjneB",
        "outputId": "3a205c02-4401-4d09-b8e9-7bc233ba6ecb"
      },
      "execution_count": 22,
      "outputs": [
        {
          "output_type": "display_data",
          "data": {
            "image/png": "[encoded data removed]",
            "text/plain": [
              "<Figure size 1440x1080 with 4 Axes>"
            ]
          },
          "metadata": {}
        }
      ]
    },
    {
      "cell_type": "markdown",
      "source": [
        "**상관관계 시각화**"
      ],
      "metadata": {
        "id": "xZV1lPnin2k7"
      }
    },
    {
      "cell_type": "code",
      "source": [
        "from sklearn.preprocessing import LabelEncoder\n",
        "\n",
        "corr_df = data.copy()\n",
        "corr_df[corr_df.columns[corr_df.dtypes=='O']] = corr_df[corr_df.columns[corr_df.dtypes=='O']].astype(str).apply(LabelEncoder().fit_transform)"
      ],
      "metadata": {
        "id": "Z4WdNh2Gn5yd"
      },
      "execution_count": 23,
      "outputs": []
    },
    {
      "cell_type": "code",
      "source": [
        "corr_df"
      ],
      "metadata": {
        "colab": {
          "base_uri": "https://localhost:8080/",
          "height": 424
        },
        "id": "NiywpBpcpnnL",
        "outputId": "48549563-657f-4c79-ca21-5bb64c67e6de"
      },
      "execution_count": 24,
      "outputs": [
        {
          "output_type": "execute_result",
          "data": {
            "text/html": [
              "\n",
              "  <div id=\"df-4da12419-1503-40d5-93ac-04937195ca06\">\n",
              "    <div class=\"colab-df-container\">\n",
              "      <div>\n",
              "<style scoped>\n",
              "    .dataframe tbody tr th:only-of-type {\n",
              "        vertical-align: middle;\n",
              "    }\n",
              "\n",
              "    .dataframe tbody tr th {\n",
              "        vertical-align: top;\n",
              "    }\n",
              "\n",
              "    .dataframe thead th {\n",
              "        text-align: right;\n",
              "    }\n",
              "</style>\n",
              "<table border=\"1\" class=\"dataframe\">\n",
              "  <thead>\n",
              "    <tr style=\"text-align: right;\">\n",
              "      <th></th>\n",
              "      <th>Species</th>\n",
              "      <th>Island</th>\n",
              "      <th>Clutch Completion</th>\n",
              "      <th>Culmen Length (mm)</th>\n",
              "      <th>Culmen Depth (mm)</th>\n",
              "      <th>Flipper Length (mm)</th>\n",
              "      <th>Sex</th>\n",
              "      <th>Delta 15 N (o/oo)</th>\n",
              "      <th>Delta 13 C (o/oo)</th>\n",
              "      <th>Body Mass (g)</th>\n",
              "    </tr>\n",
              "  </thead>\n",
              "  <tbody>\n",
              "    <tr>\n",
              "      <th>0</th>\n",
              "      <td>2</td>\n",
              "      <td>0</td>\n",
              "      <td>1</td>\n",
              "      <td>50.0</td>\n",
              "      <td>15.3</td>\n",
              "      <td>220</td>\n",
              "      <td>1</td>\n",
              "      <td>8.305150</td>\n",
              "      <td>-25.190170</td>\n",
              "      <td>5550</td>\n",
              "    </tr>\n",
              "    <tr>\n",
              "      <th>1</th>\n",
              "      <td>1</td>\n",
              "      <td>1</td>\n",
              "      <td>0</td>\n",
              "      <td>49.5</td>\n",
              "      <td>19.0</td>\n",
              "      <td>200</td>\n",
              "      <td>1</td>\n",
              "      <td>9.630740</td>\n",
              "      <td>-24.346840</td>\n",
              "      <td>3800</td>\n",
              "    </tr>\n",
              "    <tr>\n",
              "      <th>2</th>\n",
              "      <td>2</td>\n",
              "      <td>0</td>\n",
              "      <td>1</td>\n",
              "      <td>45.1</td>\n",
              "      <td>14.4</td>\n",
              "      <td>210</td>\n",
              "      <td>0</td>\n",
              "      <td>8.519510</td>\n",
              "      <td>-27.018540</td>\n",
              "      <td>4400</td>\n",
              "    </tr>\n",
              "    <tr>\n",
              "      <th>3</th>\n",
              "      <td>2</td>\n",
              "      <td>0</td>\n",
              "      <td>1</td>\n",
              "      <td>44.5</td>\n",
              "      <td>14.7</td>\n",
              "      <td>214</td>\n",
              "      <td>0</td>\n",
              "      <td>8.201060</td>\n",
              "      <td>-26.165240</td>\n",
              "      <td>4850</td>\n",
              "    </tr>\n",
              "    <tr>\n",
              "      <th>4</th>\n",
              "      <td>2</td>\n",
              "      <td>0</td>\n",
              "      <td>0</td>\n",
              "      <td>49.6</td>\n",
              "      <td>16.0</td>\n",
              "      <td>225</td>\n",
              "      <td>1</td>\n",
              "      <td>8.383240</td>\n",
              "      <td>-26.842720</td>\n",
              "      <td>5700</td>\n",
              "    </tr>\n",
              "    <tr>\n",
              "      <th>...</th>\n",
              "      <td>...</td>\n",
              "      <td>...</td>\n",
              "      <td>...</td>\n",
              "      <td>...</td>\n",
              "      <td>...</td>\n",
              "      <td>...</td>\n",
              "      <td>...</td>\n",
              "      <td>...</td>\n",
              "      <td>...</td>\n",
              "      <td>...</td>\n",
              "    </tr>\n",
              "    <tr>\n",
              "      <th>109</th>\n",
              "      <td>0</td>\n",
              "      <td>2</td>\n",
              "      <td>1</td>\n",
              "      <td>36.6</td>\n",
              "      <td>17.8</td>\n",
              "      <td>185</td>\n",
              "      <td>0</td>\n",
              "      <td>8.738543</td>\n",
              "      <td>-25.718804</td>\n",
              "      <td>3700</td>\n",
              "    </tr>\n",
              "    <tr>\n",
              "      <th>110</th>\n",
              "      <td>0</td>\n",
              "      <td>1</td>\n",
              "      <td>1</td>\n",
              "      <td>39.2</td>\n",
              "      <td>18.6</td>\n",
              "      <td>190</td>\n",
              "      <td>1</td>\n",
              "      <td>9.110060</td>\n",
              "      <td>-25.795490</td>\n",
              "      <td>4250</td>\n",
              "    </tr>\n",
              "    <tr>\n",
              "      <th>111</th>\n",
              "      <td>0</td>\n",
              "      <td>1</td>\n",
              "      <td>1</td>\n",
              "      <td>43.2</td>\n",
              "      <td>18.5</td>\n",
              "      <td>192</td>\n",
              "      <td>1</td>\n",
              "      <td>8.970250</td>\n",
              "      <td>-26.036790</td>\n",
              "      <td>4100</td>\n",
              "    </tr>\n",
              "    <tr>\n",
              "      <th>112</th>\n",
              "      <td>1</td>\n",
              "      <td>1</td>\n",
              "      <td>0</td>\n",
              "      <td>46.9</td>\n",
              "      <td>16.6</td>\n",
              "      <td>192</td>\n",
              "      <td>0</td>\n",
              "      <td>9.805890</td>\n",
              "      <td>-24.737350</td>\n",
              "      <td>2700</td>\n",
              "    </tr>\n",
              "    <tr>\n",
              "      <th>113</th>\n",
              "      <td>2</td>\n",
              "      <td>0</td>\n",
              "      <td>1</td>\n",
              "      <td>50.8</td>\n",
              "      <td>17.3</td>\n",
              "      <td>228</td>\n",
              "      <td>1</td>\n",
              "      <td>8.274280</td>\n",
              "      <td>-26.300190</td>\n",
              "      <td>5600</td>\n",
              "    </tr>\n",
              "  </tbody>\n",
              "</table>\n",
              "<p>111 rows × 10 columns</p>\n",
              "</div>\n",
              "      <button class=\"colab-df-convert\" onclick=\"convertToInteractive('df-4da12419-1503-40d5-93ac-04937195ca06')\"\n",
              "              title=\"Convert this dataframe to an interactive table.\"\n",
              "              style=\"display:none;\">\n",
              "        \n",
              "  <svg xmlns=\"http://www.w3.org/2000/svg\" height=\"24px\"viewBox=\"0 0 24 24\"\n",
              "       width=\"24px\">\n",
              "    <path d=\"M0 0h24v24H0V0z\" fill=\"none\"/>\n",
              "    <path d=\"M18.56 5.44l.94 2.06.94-2.06 2.06-.94-2.06-.94-.94-2.06-.94 2.06-2.06.94zm-11 1L8.5 8.5l.94-2.06 2.06-.94-2.06-.94L8.5 2.5l-.94 2.06-2.06.94zm10 10l.94 2.06.94-2.06 2.06-.94-2.06-.94-.94-2.06-.94 2.06-2.06.94z\"/><path d=\"M17.41 7.96l-1.37-1.37c-.4-.4-.92-.59-1.43-.59-.52 0-1.04.2-1.43.59L10.3 9.45l-7.72 7.72c-.78.78-.78 2.05 0 2.83L4 21.41c.39.39.9.59 1.41.59.51 0 1.02-.2 1.41-.59l7.78-7.78 2.81-2.81c.8-.78.8-2.07 0-2.86zM5.41 20L4 18.59l7.72-7.72 1.47 1.35L5.41 20z\"/>\n",
              "  </svg>\n",
              "      </button>\n",
              "      \n",
              "  <style>\n",
              "    .colab-df-container {\n",
              "      display:flex;\n",
              "      flex-wrap:wrap;\n",
              "      gap: 12px;\n",
              "    }\n",
              "\n",
              "    .colab-df-convert {\n",
              "      background-color: #E8F0FE;\n",
              "      border: none;\n",
              "      border-radius: 50%;\n",
              "      cursor: pointer;\n",
              "      display: none;\n",
              "      fill: #1967D2;\n",
              "      height: 32px;\n",
              "      padding: 0 0 0 0;\n",
              "      width: 32px;\n",
              "    }\n",
              "\n",
              "    .colab-df-convert:hover {\n",
              "      background-color: #E2EBFA;\n",
              "      box-shadow: 0px 1px 2px rgba(60, 64, 67, 0.3), 0px 1px 3px 1px rgba(60, 64, 67, 0.15);\n",
              "      fill: #174EA6;\n",
              "    }\n",
              "\n",
              "    [theme=dark] .colab-df-convert {\n",
              "      background-color: #3B4455;\n",
              "      fill: #D2E3FC;\n",
              "    }\n",
              "\n",
              "    [theme=dark] .colab-df-convert:hover {\n",
              "      background-color: #434B5C;\n",
              "      box-shadow: 0px 1px 3px 1px rgba(0, 0, 0, 0.15);\n",
              "      filter: drop-shadow(0px 1px 2px rgba(0, 0, 0, 0.3));\n",
              "      fill: #FFFFFF;\n",
              "    }\n",
              "  </style>\n",
              "\n",
              "      <script>\n",
              "        const buttonEl =\n",
              "          document.querySelector('#df-4da12419-1503-40d5-93ac-04937195ca06 button.colab-df-convert');\n",
              "        buttonEl.style.display =\n",
              "          google.colab.kernel.accessAllowed ? 'block' : 'none';\n",
              "\n",
              "        async function convertToInteractive(key) {\n",
              "          const element = document.querySelector('#df-4da12419-1503-40d5-93ac-04937195ca06');\n",
              "          const dataTable =\n",
              "            await google.colab.kernel.invokeFunction('convertToInteractive',\n",
              "                                                     [key], {});\n",
              "          if (!dataTable) return;\n",
              "\n",
              "          const docLinkHtml = 'Like what you see? Visit the ' +\n",
              "            '<a target=\"_blank\" href=https://colab.research.google.com/notebooks/data_table.ipynb>data table notebook</a>'\n",
              "            + ' to learn more about interactive tables.';\n",
              "          element.innerHTML = '';\n",
              "          dataTable['output_type'] = 'display_data';\n",
              "          await google.colab.output.renderOutput(dataTable, element);\n",
              "          const docLink = document.createElement('div');\n",
              "          docLink.innerHTML = docLinkHtml;\n",
              "          element.appendChild(docLink);\n",
              "        }\n",
              "      </script>\n",
              "    </div>\n",
              "  </div>\n",
              "  "
            ],
            "text/plain": [
              "     Species  Island  ...  Delta 13 C (o/oo)  Body Mass (g)\n",
              "0          2       0  ...         -25.190170           5550\n",
              "1          1       1  ...         -24.346840           3800\n",
              "2          2       0  ...         -27.018540           4400\n",
              "3          2       0  ...         -26.165240           4850\n",
              "4          2       0  ...         -26.842720           5700\n",
              "..       ...     ...  ...                ...            ...\n",
              "109        0       2  ...         -25.718804           3700\n",
              "110        0       1  ...         -25.795490           4250\n",
              "111        0       1  ...         -26.036790           4100\n",
              "112        1       1  ...         -24.737350           2700\n",
              "113        2       0  ...         -26.300190           5600\n",
              "\n",
              "[111 rows x 10 columns]"
            ]
          },
          "metadata": {},
          "execution_count": 24
        }
      ]
    },
    {
      "cell_type": "code",
      "source": [
        "heat_table = corr_df.corr()\n",
        "mask = np.zeros_like(heat_table)\n",
        "mask[np.triu_indices_from(mask)] = True\n",
        "mask"
      ],
      "metadata": {
        "colab": {
          "base_uri": "https://localhost:8080/"
        },
        "id": "8l7bFDL7pp5k",
        "outputId": "eff75ee5-31a4-4892-b575-39671efe7e7c"
      },
      "execution_count": 29,
      "outputs": [
        {
          "output_type": "execute_result",
          "data": {
            "text/plain": [
              "array([[1., 1., 1., 1., 1., 1., 1., 1., 1., 1.],\n",
              "       [0., 1., 1., 1., 1., 1., 1., 1., 1., 1.],\n",
              "       [0., 0., 1., 1., 1., 1., 1., 1., 1., 1.],\n",
              "       [0., 0., 0., 1., 1., 1., 1., 1., 1., 1.],\n",
              "       [0., 0., 0., 0., 1., 1., 1., 1., 1., 1.],\n",
              "       [0., 0., 0., 0., 0., 1., 1., 1., 1., 1.],\n",
              "       [0., 0., 0., 0., 0., 0., 1., 1., 1., 1.],\n",
              "       [0., 0., 0., 0., 0., 0., 0., 1., 1., 1.],\n",
              "       [0., 0., 0., 0., 0., 0., 0., 0., 1., 1.],\n",
              "       [0., 0., 0., 0., 0., 0., 0., 0., 0., 1.]])"
            ]
          },
          "metadata": {},
          "execution_count": 29
        }
      ]
    },
    {
      "cell_type": "code",
      "source": [
        "plt.figure(figsize=(15, 10))\n",
        "\n",
        "heatmap_ax = sns.heatmap(heat_table, annot=True, mask=mask, cmap='coolwarm')\n",
        "heatmap_ax.set_xticklabels(heatmap_ax.get_xticklabels(), fontsize=15, rotation=45)\n",
        "heatmap_ax.set_yticklabels(heatmap_ax.get_yticklabels(), fontsize=15)\n",
        "plt.title('correlation between features', fontsize=40)\n",
        "plt.show()"
      ],
      "metadata": {
        "colab": {
          "base_uri": "https://localhost:8080/",
          "height": 745
        },
        "id": "DLQx9fx-q8Jc",
        "outputId": "998a053a-5c53-47a1-fb50-e4f9323eb494"
      },
      "execution_count": 30,
      "outputs": [
        {
          "output_type": "display_data",
          "data": {
            "image/png": "[encoded data removed]",
            "text/plain": [
              "<Figure size 1080x720 with 2 Axes>"
            ]
          },
          "metadata": {}
        }
      ]
    },
    {
      "cell_type": "markdown",
      "source": [
        "**Target과 다른 feature들과의 관계**"
      ],
      "metadata": {
        "id": "E8pFAjiesfkl"
      }
    },
    {
      "cell_type": "code",
      "source": [
        "target = \"Body Mass (g)\""
      ],
      "metadata": {
        "id": "MzAyT5H7sURI"
      },
      "execution_count": 31,
      "outputs": []
    },
    {
      "cell_type": "code",
      "source": [
        "feature = numeric_feature\n",
        "\n",
        "plt.figure(figsize=(20, 15))\n",
        "plt.suptitle(\"Scatter Plot\", fontsize=40)\n",
        "\n",
        "# id는 제외하고 시각화\n",
        "for i in range(len(feature[:-1])):\n",
        "  plt.subplot(2, 3, i+1)\n",
        "  plt.xlabel(feature[i])\n",
        "  plt.ylabel(target)\n",
        "  corr_score = data[[feature[i], target]].corr().iloc[0, 1].round(2)\n",
        "  c = 'red' if corr_score > 0 else 'blue'\n",
        "  plt.scatter(data[feature[i]], data[target], color=c, label=f\"corr = {corr_score}\")\n",
        "  plt.legend(fontsize=15)\n",
        "\n",
        "plt.tight_layout(rect=[0, 0.03, 1, 0.95])\n",
        "plt.show()"
      ],
      "metadata": {
        "colab": {
          "base_uri": "https://localhost:8080/",
          "height": 950
        },
        "id": "3ZeslxqRsodb",
        "outputId": "e3b07ded-8e67-4301-b541-15e9a9df22df"
      },
      "execution_count": 32,
      "outputs": [
        {
          "output_type": "display_data",
          "data": {
            "image/png": "[encoded data removed]",
            "text/plain": [
              "<Figure size 1440x1080 with 5 Axes>"
            ]
          },
          "metadata": {}
        }
      ]
    },
    {
      "cell_type": "markdown",
      "source": [
        "**데이터 전처리**"
      ],
      "metadata": {
        "id": "fkCZDtEuzcuy"
      }
    },
    {
      "cell_type": "code",
      "source": [
        "raw_test = pd.read_csv('/content/drive/MyDrive/Colab Notebooks/dacon/dataset/test.csv')\n",
        "raw_test = raw_test.drop('id', axis=1)\n",
        "raw_test.head()"
      ],
      "metadata": {
        "colab": {
          "base_uri": "https://localhost:8080/",
          "height": 302
        },
        "id": "ClUzdJlSzte7",
        "outputId": "4800e252-bc7b-42ca-99d3-80d0bfda37f0"
      },
      "execution_count": 109,
      "outputs": [
        {
          "output_type": "execute_result",
          "data": {
            "text/html": [
              "\n",
              "  <div id=\"df-27625632-cee8-4873-b6ef-6c54dae96324\">\n",
              "    <div class=\"colab-df-container\">\n",
              "      <div>\n",
              "<style scoped>\n",
              "    .dataframe tbody tr th:only-of-type {\n",
              "        vertical-align: middle;\n",
              "    }\n",
              "\n",
              "    .dataframe tbody tr th {\n",
              "        vertical-align: top;\n",
              "    }\n",
              "\n",
              "    .dataframe thead th {\n",
              "        text-align: right;\n",
              "    }\n",
              "</style>\n",
              "<table border=\"1\" class=\"dataframe\">\n",
              "  <thead>\n",
              "    <tr style=\"text-align: right;\">\n",
              "      <th></th>\n",
              "      <th>Species</th>\n",
              "      <th>Island</th>\n",
              "      <th>Clutch Completion</th>\n",
              "      <th>Culmen Length (mm)</th>\n",
              "      <th>Culmen Depth (mm)</th>\n",
              "      <th>Flipper Length (mm)</th>\n",
              "      <th>Sex</th>\n",
              "      <th>Delta 15 N (o/oo)</th>\n",
              "      <th>Delta 13 C (o/oo)</th>\n",
              "    </tr>\n",
              "  </thead>\n",
              "  <tbody>\n",
              "    <tr>\n",
              "      <th>0</th>\n",
              "      <td>Chinstrap penguin (Pygoscelis antarctica)</td>\n",
              "      <td>Dream</td>\n",
              "      <td>Yes</td>\n",
              "      <td>52.0</td>\n",
              "      <td>20.7</td>\n",
              "      <td>210.0</td>\n",
              "      <td>MALE</td>\n",
              "      <td>9.43146</td>\n",
              "      <td>-24.68440</td>\n",
              "    </tr>\n",
              "    <tr>\n",
              "      <th>1</th>\n",
              "      <td>Gentoo penguin (Pygoscelis papua)</td>\n",
              "      <td>Biscoe</td>\n",
              "      <td>Yes</td>\n",
              "      <td>55.9</td>\n",
              "      <td>17.0</td>\n",
              "      <td>228.0</td>\n",
              "      <td>MALE</td>\n",
              "      <td>8.31180</td>\n",
              "      <td>-26.35425</td>\n",
              "    </tr>\n",
              "    <tr>\n",
              "      <th>2</th>\n",
              "      <td>Adelie Penguin (Pygoscelis adeliae)</td>\n",
              "      <td>Dream</td>\n",
              "      <td>Yes</td>\n",
              "      <td>38.9</td>\n",
              "      <td>18.8</td>\n",
              "      <td>190.0</td>\n",
              "      <td>FEMALE</td>\n",
              "      <td>8.36936</td>\n",
              "      <td>-26.11199</td>\n",
              "    </tr>\n",
              "    <tr>\n",
              "      <th>3</th>\n",
              "      <td>Chinstrap penguin (Pygoscelis antarctica)</td>\n",
              "      <td>Dream</td>\n",
              "      <td>Yes</td>\n",
              "      <td>45.2</td>\n",
              "      <td>16.6</td>\n",
              "      <td>191.0</td>\n",
              "      <td>FEMALE</td>\n",
              "      <td>9.62357</td>\n",
              "      <td>-24.78984</td>\n",
              "    </tr>\n",
              "    <tr>\n",
              "      <th>4</th>\n",
              "      <td>Adelie Penguin (Pygoscelis adeliae)</td>\n",
              "      <td>Biscoe</td>\n",
              "      <td>No</td>\n",
              "      <td>37.9</td>\n",
              "      <td>18.6</td>\n",
              "      <td>172.0</td>\n",
              "      <td>FEMALE</td>\n",
              "      <td>8.38404</td>\n",
              "      <td>-25.19837</td>\n",
              "    </tr>\n",
              "  </tbody>\n",
              "</table>\n",
              "</div>\n",
              "      <button class=\"colab-df-convert\" onclick=\"convertToInteractive('df-27625632-cee8-4873-b6ef-6c54dae96324')\"\n",
              "              title=\"Convert this dataframe to an interactive table.\"\n",
              "              style=\"display:none;\">\n",
              "        \n",
              "  <svg xmlns=\"http://www.w3.org/2000/svg\" height=\"24px\"viewBox=\"0 0 24 24\"\n",
              "       width=\"24px\">\n",
              "    <path d=\"M0 0h24v24H0V0z\" fill=\"none\"/>\n",
              "    <path d=\"M18.56 5.44l.94 2.06.94-2.06 2.06-.94-2.06-.94-.94-2.06-.94 2.06-2.06.94zm-11 1L8.5 8.5l.94-2.06 2.06-.94-2.06-.94L8.5 2.5l-.94 2.06-2.06.94zm10 10l.94 2.06.94-2.06 2.06-.94-2.06-.94-.94-2.06-.94 2.06-2.06.94z\"/><path d=\"M17.41 7.96l-1.37-1.37c-.4-.4-.92-.59-1.43-.59-.52 0-1.04.2-1.43.59L10.3 9.45l-7.72 7.72c-.78.78-.78 2.05 0 2.83L4 21.41c.39.39.9.59 1.41.59.51 0 1.02-.2 1.41-.59l7.78-7.78 2.81-2.81c.8-.78.8-2.07 0-2.86zM5.41 20L4 18.59l7.72-7.72 1.47 1.35L5.41 20z\"/>\n",
              "  </svg>\n",
              "      </button>\n",
              "      \n",
              "  <style>\n",
              "    .colab-df-container {\n",
              "      display:flex;\n",
              "      flex-wrap:wrap;\n",
              "      gap: 12px;\n",
              "    }\n",
              "\n",
              "    .colab-df-convert {\n",
              "      background-color: #E8F0FE;\n",
              "      border: none;\n",
              "      border-radius: 50%;\n",
              "      cursor: pointer;\n",
              "      display: none;\n",
              "      fill: #1967D2;\n",
              "      height: 32px;\n",
              "      padding: 0 0 0 0;\n",
              "      width: 32px;\n",
              "    }\n",
              "\n",
              "    .colab-df-convert:hover {\n",
              "      background-color: #E2EBFA;\n",
              "      box-shadow: 0px 1px 2px rgba(60, 64, 67, 0.3), 0px 1px 3px 1px rgba(60, 64, 67, 0.15);\n",
              "      fill: #174EA6;\n",
              "    }\n",
              "\n",
              "    [theme=dark] .colab-df-convert {\n",
              "      background-color: #3B4455;\n",
              "      fill: #D2E3FC;\n",
              "    }\n",
              "\n",
              "    [theme=dark] .colab-df-convert:hover {\n",
              "      background-color: #434B5C;\n",
              "      box-shadow: 0px 1px 3px 1px rgba(0, 0, 0, 0.15);\n",
              "      filter: drop-shadow(0px 1px 2px rgba(0, 0, 0, 0.3));\n",
              "      fill: #FFFFFF;\n",
              "    }\n",
              "  </style>\n",
              "\n",
              "      <script>\n",
              "        const buttonEl =\n",
              "          document.querySelector('#df-27625632-cee8-4873-b6ef-6c54dae96324 button.colab-df-convert');\n",
              "        buttonEl.style.display =\n",
              "          google.colab.kernel.accessAllowed ? 'block' : 'none';\n",
              "\n",
              "        async function convertToInteractive(key) {\n",
              "          const element = document.querySelector('#df-27625632-cee8-4873-b6ef-6c54dae96324');\n",
              "          const dataTable =\n",
              "            await google.colab.kernel.invokeFunction('convertToInteractive',\n",
              "                                                     [key], {});\n",
              "          if (!dataTable) return;\n",
              "\n",
              "          const docLinkHtml = 'Like what you see? Visit the ' +\n",
              "            '<a target=\"_blank\" href=https://colab.research.google.com/notebooks/data_table.ipynb>data table notebook</a>'\n",
              "            + ' to learn more about interactive tables.';\n",
              "          element.innerHTML = '';\n",
              "          dataTable['output_type'] = 'display_data';\n",
              "          await google.colab.output.renderOutput(dataTable, element);\n",
              "          const docLink = document.createElement('div');\n",
              "          docLink.innerHTML = docLinkHtml;\n",
              "          element.appendChild(docLink);\n",
              "        }\n",
              "      </script>\n",
              "    </div>\n",
              "  </div>\n",
              "  "
            ],
            "text/plain": [
              "                                     Species  ... Delta 13 C (o/oo)\n",
              "0  Chinstrap penguin (Pygoscelis antarctica)  ...         -24.68440\n",
              "1          Gentoo penguin (Pygoscelis papua)  ...         -26.35425\n",
              "2        Adelie Penguin (Pygoscelis adeliae)  ...         -26.11199\n",
              "3  Chinstrap penguin (Pygoscelis antarctica)  ...         -24.78984\n",
              "4        Adelie Penguin (Pygoscelis adeliae)  ...         -25.19837\n",
              "\n",
              "[5 rows x 9 columns]"
            ]
          },
          "metadata": {},
          "execution_count": 109
        }
      ]
    },
    {
      "cell_type": "code",
      "source": [
        "test_missing_col = check_missing_col(raw_test)"
      ],
      "metadata": {
        "colab": {
          "base_uri": "https://localhost:8080/"
        },
        "id": "PA_3vlaOz_nw",
        "outputId": "2173249b-e026-416f-b80b-9e44c4b4ca70"
      },
      "execution_count": 110,
      "outputs": [
        {
          "output_type": "stream",
          "name": "stdout",
          "text": [
            "결측치가 존재하는 컬럼은: Sex입니다.\n",
            "해당 컬럼에 총 6개의 결측치가 존재합니다.\n",
            "결측치가 존재하는 컬럼은: Delta 15 N (o/oo)입니다.\n",
            "해당 컬럼에 총 9개의 결측치가 존재합니다.\n",
            "결측치가 존재하는 컬럼은: Delta 13 C (o/oo)입니다.\n",
            "해당 컬럼에 총 8개의 결측치가 존재합니다.\n"
          ]
        }
      ]
    },
    {
      "cell_type": "code",
      "source": [
        "raw_test = handle_na(raw_test, test_missing_col)\n",
        "test_missing_col = check_missing_col(raw_test)"
      ],
      "metadata": {
        "colab": {
          "base_uri": "https://localhost:8080/"
        },
        "id": "73GGCppv0a--",
        "outputId": "556fccff-0ae1-4017-e660-5cfc3f2e1550"
      },
      "execution_count": 111,
      "outputs": [
        {
          "output_type": "stream",
          "name": "stdout",
          "text": [
            "결측치가 존재하지 않습니다.\n"
          ]
        }
      ]
    },
    {
      "cell_type": "code",
      "source": [
        "train = data.copy()\n",
        "test = raw_test.copy()\n",
        "train = pd.get_dummies(train)\n",
        "test = pd.get_dummies(test)"
      ],
      "metadata": {
        "id": "VIOmkgdS0w4H"
      },
      "execution_count": 112,
      "outputs": []
    },
    {
      "cell_type": "code",
      "source": [
        "print(train.shape)\n",
        "print(test.shape)"
      ],
      "metadata": {
        "colab": {
          "base_uri": "https://localhost:8080/"
        },
        "id": "bvhYGr0MydBY",
        "outputId": "7d1acff0-5b6c-4e97-8e75-1e0d4cdb1f6e"
      },
      "execution_count": 114,
      "outputs": [
        {
          "output_type": "stream",
          "name": "stdout",
          "text": [
            "(111, 16)\n",
            "(222, 15)\n"
          ]
        }
      ]
    },
    {
      "cell_type": "code",
      "source": [
        "from sklearn.preprocessing import StandardScaler\n",
        "\n",
        "std_scaler = StandardScaler()\n",
        "scaled_train = std_scaler.fit_transform(train[numeric_feature[:-1]])\n",
        "scaled_test = std_scaler.fit_transform(test[numeric_feature[:-1]])"
      ],
      "metadata": {
        "id": "JoGFv4hpym6K"
      },
      "execution_count": 115,
      "outputs": []
    },
    {
      "cell_type": "code",
      "source": [
        "train[numeric_feature[:-1]] = pd.DataFrame(data=scaled_train, columns=numeric_feature[:-1])\n",
        "test[numeric_feature[:-1]] = pd.DataFrame(data=scaled_test, columns=numeric_feature[:-1])\n",
        "\n",
        "train[numeric_feature[:-1]].head()"
      ],
      "metadata": {
        "colab": {
          "base_uri": "https://localhost:8080/",
          "height": 206
        },
        "id": "39wAQAQG2ALg",
        "outputId": "a9ff42c7-38c5-4417-f475-ec8214059bfd"
      },
      "execution_count": 116,
      "outputs": [
        {
          "output_type": "execute_result",
          "data": {
            "text/html": [
              "\n",
              "  <div id=\"df-b0d79449-090d-4581-b947-68471f5e22b4\">\n",
              "    <div class=\"colab-df-container\">\n",
              "      <div>\n",
              "<style scoped>\n",
              "    .dataframe tbody tr th:only-of-type {\n",
              "        vertical-align: middle;\n",
              "    }\n",
              "\n",
              "    .dataframe tbody tr th {\n",
              "        vertical-align: top;\n",
              "    }\n",
              "\n",
              "    .dataframe thead th {\n",
              "        text-align: right;\n",
              "    }\n",
              "</style>\n",
              "<table border=\"1\" class=\"dataframe\">\n",
              "  <thead>\n",
              "    <tr style=\"text-align: right;\">\n",
              "      <th></th>\n",
              "      <th>Culmen Length (mm)</th>\n",
              "      <th>Culmen Depth (mm)</th>\n",
              "      <th>Flipper Length (mm)</th>\n",
              "      <th>Delta 15 N (o/oo)</th>\n",
              "      <th>Delta 13 C (o/oo)</th>\n",
              "    </tr>\n",
              "  </thead>\n",
              "  <tbody>\n",
              "    <tr>\n",
              "      <th>0</th>\n",
              "      <td>1.003013</td>\n",
              "      <td>-0.887034</td>\n",
              "      <td>1.148185</td>\n",
              "      <td>-0.771270</td>\n",
              "      <td>0.623765</td>\n",
              "    </tr>\n",
              "    <tr>\n",
              "      <th>1</th>\n",
              "      <td>0.908083</td>\n",
              "      <td>1.043569</td>\n",
              "      <td>-0.215630</td>\n",
              "      <td>1.587759</td>\n",
              "      <td>1.618858</td>\n",
              "    </tr>\n",
              "    <tr>\n",
              "      <th>2</th>\n",
              "      <td>0.072695</td>\n",
              "      <td>-1.356640</td>\n",
              "      <td>0.466277</td>\n",
              "      <td>-0.389794</td>\n",
              "      <td>-1.533633</td>\n",
              "    </tr>\n",
              "    <tr>\n",
              "      <th>3</th>\n",
              "      <td>-0.041222</td>\n",
              "      <td>-1.200104</td>\n",
              "      <td>0.739040</td>\n",
              "      <td>-0.956509</td>\n",
              "      <td>-0.526776</td>\n",
              "    </tr>\n",
              "    <tr>\n",
              "      <th>4</th>\n",
              "      <td>0.927069</td>\n",
              "      <td>-0.521784</td>\n",
              "      <td>1.489138</td>\n",
              "      <td>-0.632301</td>\n",
              "      <td>-1.326173</td>\n",
              "    </tr>\n",
              "  </tbody>\n",
              "</table>\n",
              "</div>\n",
              "      <button class=\"colab-df-convert\" onclick=\"convertToInteractive('df-b0d79449-090d-4581-b947-68471f5e22b4')\"\n",
              "              title=\"Convert this dataframe to an interactive table.\"\n",
              "              style=\"display:none;\">\n",
              "        \n",
              "  <svg xmlns=\"http://www.w3.org/2000/svg\" height=\"24px\"viewBox=\"0 0 24 24\"\n",
              "       width=\"24px\">\n",
              "    <path d=\"M0 0h24v24H0V0z\" fill=\"none\"/>\n",
              "    <path d=\"M18.56 5.44l.94 2.06.94-2.06 2.06-.94-2.06-.94-.94-2.06-.94 2.06-2.06.94zm-11 1L8.5 8.5l.94-2.06 2.06-.94-2.06-.94L8.5 2.5l-.94 2.06-2.06.94zm10 10l.94 2.06.94-2.06 2.06-.94-2.06-.94-.94-2.06-.94 2.06-2.06.94z\"/><path d=\"M17.41 7.96l-1.37-1.37c-.4-.4-.92-.59-1.43-.59-.52 0-1.04.2-1.43.59L10.3 9.45l-7.72 7.72c-.78.78-.78 2.05 0 2.83L4 21.41c.39.39.9.59 1.41.59.51 0 1.02-.2 1.41-.59l7.78-7.78 2.81-2.81c.8-.78.8-2.07 0-2.86zM5.41 20L4 18.59l7.72-7.72 1.47 1.35L5.41 20z\"/>\n",
              "  </svg>\n",
              "      </button>\n",
              "      \n",
              "  <style>\n",
              "    .colab-df-container {\n",
              "      display:flex;\n",
              "      flex-wrap:wrap;\n",
              "      gap: 12px;\n",
              "    }\n",
              "\n",
              "    .colab-df-convert {\n",
              "      background-color: #E8F0FE;\n",
              "      border: none;\n",
              "      border-radius: 50%;\n",
              "      cursor: pointer;\n",
              "      display: none;\n",
              "      fill: #1967D2;\n",
              "      height: 32px;\n",
              "      padding: 0 0 0 0;\n",
              "      width: 32px;\n",
              "    }\n",
              "\n",
              "    .colab-df-convert:hover {\n",
              "      background-color: #E2EBFA;\n",
              "      box-shadow: 0px 1px 2px rgba(60, 64, 67, 0.3), 0px 1px 3px 1px rgba(60, 64, 67, 0.15);\n",
              "      fill: #174EA6;\n",
              "    }\n",
              "\n",
              "    [theme=dark] .colab-df-convert {\n",
              "      background-color: #3B4455;\n",
              "      fill: #D2E3FC;\n",
              "    }\n",
              "\n",
              "    [theme=dark] .colab-df-convert:hover {\n",
              "      background-color: #434B5C;\n",
              "      box-shadow: 0px 1px 3px 1px rgba(0, 0, 0, 0.15);\n",
              "      filter: drop-shadow(0px 1px 2px rgba(0, 0, 0, 0.3));\n",
              "      fill: #FFFFFF;\n",
              "    }\n",
              "  </style>\n",
              "\n",
              "      <script>\n",
              "        const buttonEl =\n",
              "          document.querySelector('#df-b0d79449-090d-4581-b947-68471f5e22b4 button.colab-df-convert');\n",
              "        buttonEl.style.display =\n",
              "          google.colab.kernel.accessAllowed ? 'block' : 'none';\n",
              "\n",
              "        async function convertToInteractive(key) {\n",
              "          const element = document.querySelector('#df-b0d79449-090d-4581-b947-68471f5e22b4');\n",
              "          const dataTable =\n",
              "            await google.colab.kernel.invokeFunction('convertToInteractive',\n",
              "                                                     [key], {});\n",
              "          if (!dataTable) return;\n",
              "\n",
              "          const docLinkHtml = 'Like what you see? Visit the ' +\n",
              "            '<a target=\"_blank\" href=https://colab.research.google.com/notebooks/data_table.ipynb>data table notebook</a>'\n",
              "            + ' to learn more about interactive tables.';\n",
              "          element.innerHTML = '';\n",
              "          dataTable['output_type'] = 'display_data';\n",
              "          await google.colab.output.renderOutput(dataTable, element);\n",
              "          const docLink = document.createElement('div');\n",
              "          docLink.innerHTML = docLinkHtml;\n",
              "          element.appendChild(docLink);\n",
              "        }\n",
              "      </script>\n",
              "    </div>\n",
              "  </div>\n",
              "  "
            ],
            "text/plain": [
              "   Culmen Length (mm)  Culmen Depth (mm)  ...  Delta 15 N (o/oo)  Delta 13 C (o/oo)\n",
              "0            1.003013          -0.887034  ...          -0.771270           0.623765\n",
              "1            0.908083           1.043569  ...           1.587759           1.618858\n",
              "2            0.072695          -1.356640  ...          -0.389794          -1.533633\n",
              "3           -0.041222          -1.200104  ...          -0.956509          -0.526776\n",
              "4            0.927069          -0.521784  ...          -0.632301          -1.326173\n",
              "\n",
              "[5 rows x 5 columns]"
            ]
          },
          "metadata": {},
          "execution_count": 116
        }
      ]
    },
    {
      "cell_type": "code",
      "source": [
        "train_label = train[target]\n",
        "train.drop(target, axis=1, inplace=True)"
      ],
      "metadata": {
        "id": "xorZL_VL2WJV"
      },
      "execution_count": 117,
      "outputs": []
    },
    {
      "cell_type": "code",
      "source": [
        "from sklearn.linear_model import Ridge\n",
        "from sklearn.model_selection import cross_val_score\n",
        "\n",
        "alphas = [0, 0.1, 1, 10, 100]\n",
        "\n",
        "for alpha in alphas:\n",
        "  ridge_reg = Ridge(alpha=alpha)\n",
        "  neg_mse_scores = cross_val_score(ridge_reg, train, train_label, scoring = 'neg_mean_squared_error', cv = 5)\n",
        "  avg_rmse = np.mean(np.sqrt(-neg_mse_scores))\n",
        "  print('alpha 값 ', alpha, '일때 평균 rmse :', np.round(avg_rmse,4))"
      ],
      "metadata": {
        "colab": {
          "base_uri": "https://localhost:8080/"
        },
        "id": "uVfpo_AM3AW7",
        "outputId": "5b9a96b8-f7e6-448a-8074-2f69ed038fa4"
      },
      "execution_count": 120,
      "outputs": [
        {
          "output_type": "stream",
          "name": "stdout",
          "text": [
            "alpha 값  0 일때 평균 rmse : 337.1436\n",
            "alpha 값  0.1 일때 평균 rmse : 335.3134\n",
            "alpha 값  1 일때 평균 rmse : 330.3447\n",
            "alpha 값  10 일때 평균 rmse : 328.1427\n",
            "alpha 값  100 일때 평균 rmse : 406.8416\n"
          ]
        }
      ]
    },
    {
      "cell_type": "code",
      "source": [
        "ridge = Ridge(alpha=10)\n",
        "ridge.fit(train, train_label)\n",
        "\n",
        "sample_submission_df = pd.read_csv('/content/drive/MyDrive/Colab Notebooks/dacon/dataset/sample_submission.csv')\n",
        "sample_submission_df[target] = ridge.predict(test)"
      ],
      "metadata": {
        "id": "uB5NETm8CaWg"
      },
      "execution_count": null,
      "outputs": []
    }
  ]
}